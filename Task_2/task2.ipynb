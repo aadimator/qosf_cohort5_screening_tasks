{
 "cells": [
  {
   "cell_type": "markdown",
   "metadata": {},
   "source": [
    "# Task 2 Encoding and Classifier\n",
    "\n",
    "## Description\n",
    "\n",
    "- Encode the following files in a quantum circuit [mock_train_set.csv](https://drive.google.com/file/d/1PIcC1mJ_xi4u1-2gxyoStg2Rg_joSBIB/view?usp=sharing) and [mock_test_set.csv](https://drive.google.com/file/d/1aapYE69pTeNHZ6u-qKAoLfd1HWZVWPlB/view?usp=sharing) in at least two different ways (these could be basis, angle, amplitude, kernel or random encoding).\n",
    "- Design a variational quantum circuit for each of the encodings, using the `column4` as the target, this is a binary class 0 and 1.\n",
    "- You must use the data from `column0` to `column3` for your proposed classifier.\n",
    "- Consider the ansatz you are going to design as a layer and find out how many layers are necessary to reach the best performance.\n",
    "\n",
    "Analyze and discuss the results.\n",
    "\n",
    "Feel free to use existing frameworks (e.g. PennyLane, Qiskit) for creating and training the circuits.  \n",
    "This PennyLane demo can be useful: [Training a quantum circuit with Pytorch](https://pennylane.ai/qml/demos/tutorial_state_preparation.html).  \n",
    "This Quantum Tensorflow tutorial can be useful: [Training a quantum circuit with Tensorflow](https://www.tensorflow.org/quantum/tutorials/mnist).\n",
    "\n",
    "For the variational circuit, you can try any circuit you want. You can start from one with a layer of RX, RZ and CNOTs."
   ]
  },
  {
   "cell_type": "code",
   "execution_count": 82,
   "metadata": {},
   "outputs": [],
   "source": [
    "# Added to silence some warnings.\n",
    "from jax.config import config\n",
    "config.update(\"jax_enable_x64\", True)\n",
    "\n",
    "import jax\n",
    "import jax.numpy as jnp\n",
    "\n",
    "import numpy as np\n",
    "import pandas as pd\n",
    "import pennylane as qml\n",
    "\n",
    "import matplotlib.pyplot as plt\n",
    "import seaborn as sns\n",
    "sns.set()"
   ]
  },
  {
   "cell_type": "markdown",
   "metadata": {},
   "source": [
    "## EDA\n",
    "First, let's load and preprocess the data."
   ]
  },
  {
   "cell_type": "code",
   "execution_count": 53,
   "metadata": {},
   "outputs": [
    {
     "name": "stdout",
     "output_type": "stream",
     "text": [
      "Shape of train data: (300, 5)\n",
      "Shape of test data: (120, 5)\n"
     ]
    }
   ],
   "source": [
    "train_data = pd.read_csv(\"data/mock_train_set.csv\")\n",
    "test_data = pd.read_csv(\"data/mock_test_set.csv\")\n",
    "\n",
    "print(f\"Shape of train data: {train_data.shape}\")\n",
    "print(f\"Shape of test data: {test_data.shape}\")"
   ]
  },
  {
   "cell_type": "markdown",
   "metadata": {},
   "source": [
    "Let's take a closer look at the data, its contents, and data types."
   ]
  },
  {
   "cell_type": "code",
   "execution_count": 54,
   "metadata": {},
   "outputs": [
    {
     "data": {
      "text/html": [
       "<div>\n",
       "<style scoped>\n",
       "    .dataframe tbody tr th:only-of-type {\n",
       "        vertical-align: middle;\n",
       "    }\n",
       "\n",
       "    .dataframe tbody tr th {\n",
       "        vertical-align: top;\n",
       "    }\n",
       "\n",
       "    .dataframe thead th {\n",
       "        text-align: right;\n",
       "    }\n",
       "</style>\n",
       "<table border=\"1\" class=\"dataframe\">\n",
       "  <thead>\n",
       "    <tr style=\"text-align: right;\">\n",
       "      <th></th>\n",
       "      <th>0</th>\n",
       "      <th>1</th>\n",
       "      <th>2</th>\n",
       "      <th>3</th>\n",
       "      <th>4</th>\n",
       "    </tr>\n",
       "  </thead>\n",
       "  <tbody>\n",
       "    <tr>\n",
       "      <th>0</th>\n",
       "      <td>2789.26</td>\n",
       "      <td>1000.0</td>\n",
       "      <td>10.0</td>\n",
       "      <td>20.0</td>\n",
       "      <td>0.0</td>\n",
       "    </tr>\n",
       "    <tr>\n",
       "      <th>1</th>\n",
       "      <td>4040.01</td>\n",
       "      <td>1000000.0</td>\n",
       "      <td>1.0</td>\n",
       "      <td>1.0</td>\n",
       "      <td>1.0</td>\n",
       "    </tr>\n",
       "    <tr>\n",
       "      <th>2</th>\n",
       "      <td>2931.20</td>\n",
       "      <td>10000.0</td>\n",
       "      <td>10000.0</td>\n",
       "      <td>40.0</td>\n",
       "      <td>1.0</td>\n",
       "    </tr>\n",
       "    <tr>\n",
       "      <th>3</th>\n",
       "      <td>3896.54</td>\n",
       "      <td>10000.0</td>\n",
       "      <td>100000.0</td>\n",
       "      <td>30.0</td>\n",
       "      <td>1.0</td>\n",
       "    </tr>\n",
       "    <tr>\n",
       "      <th>4</th>\n",
       "      <td>982.06</td>\n",
       "      <td>100.0</td>\n",
       "      <td>1000.0</td>\n",
       "      <td>75.0</td>\n",
       "      <td>0.0</td>\n",
       "    </tr>\n",
       "  </tbody>\n",
       "</table>\n",
       "</div>"
      ],
      "text/plain": [
       "         0          1         2     3    4\n",
       "0  2789.26     1000.0      10.0  20.0  0.0\n",
       "1  4040.01  1000000.0       1.0   1.0  1.0\n",
       "2  2931.20    10000.0   10000.0  40.0  1.0\n",
       "3  3896.54    10000.0  100000.0  30.0  1.0\n",
       "4   982.06      100.0    1000.0  75.0  0.0"
      ]
     },
     "execution_count": 54,
     "metadata": {},
     "output_type": "execute_result"
    }
   ],
   "source": [
    "train_data.head()"
   ]
  },
  {
   "cell_type": "code",
   "execution_count": 55,
   "metadata": {},
   "outputs": [
    {
     "data": {
      "text/html": [
       "<div>\n",
       "<style scoped>\n",
       "    .dataframe tbody tr th:only-of-type {\n",
       "        vertical-align: middle;\n",
       "    }\n",
       "\n",
       "    .dataframe tbody tr th {\n",
       "        vertical-align: top;\n",
       "    }\n",
       "\n",
       "    .dataframe thead th {\n",
       "        text-align: right;\n",
       "    }\n",
       "</style>\n",
       "<table border=\"1\" class=\"dataframe\">\n",
       "  <thead>\n",
       "    <tr style=\"text-align: right;\">\n",
       "      <th></th>\n",
       "      <th>0</th>\n",
       "      <th>1</th>\n",
       "      <th>2</th>\n",
       "      <th>3</th>\n",
       "      <th>4</th>\n",
       "    </tr>\n",
       "  </thead>\n",
       "  <tbody>\n",
       "    <tr>\n",
       "      <th>0</th>\n",
       "      <td>2988.55</td>\n",
       "      <td>10000.0</td>\n",
       "      <td>10000.0</td>\n",
       "      <td>75.0</td>\n",
       "      <td>1.0</td>\n",
       "    </tr>\n",
       "    <tr>\n",
       "      <th>1</th>\n",
       "      <td>3413.80</td>\n",
       "      <td>1.0</td>\n",
       "      <td>100.0</td>\n",
       "      <td>90.0</td>\n",
       "      <td>0.0</td>\n",
       "    </tr>\n",
       "    <tr>\n",
       "      <th>2</th>\n",
       "      <td>3891.52</td>\n",
       "      <td>1.0</td>\n",
       "      <td>1.0</td>\n",
       "      <td>5.0</td>\n",
       "      <td>0.0</td>\n",
       "    </tr>\n",
       "    <tr>\n",
       "      <th>3</th>\n",
       "      <td>4514.99</td>\n",
       "      <td>10000.0</td>\n",
       "      <td>1000000.0</td>\n",
       "      <td>25.0</td>\n",
       "      <td>1.0</td>\n",
       "    </tr>\n",
       "    <tr>\n",
       "      <th>4</th>\n",
       "      <td>752.29</td>\n",
       "      <td>10.0</td>\n",
       "      <td>10.0</td>\n",
       "      <td>90.0</td>\n",
       "      <td>0.0</td>\n",
       "    </tr>\n",
       "  </tbody>\n",
       "</table>\n",
       "</div>"
      ],
      "text/plain": [
       "         0        1          2     3    4\n",
       "0  2988.55  10000.0    10000.0  75.0  1.0\n",
       "1  3413.80      1.0      100.0  90.0  0.0\n",
       "2  3891.52      1.0        1.0   5.0  0.0\n",
       "3  4514.99  10000.0  1000000.0  25.0  1.0\n",
       "4   752.29     10.0       10.0  90.0  0.0"
      ]
     },
     "execution_count": 55,
     "metadata": {},
     "output_type": "execute_result"
    }
   ],
   "source": [
    "test_data.head()"
   ]
  },
  {
   "cell_type": "code",
   "execution_count": 56,
   "metadata": {},
   "outputs": [
    {
     "name": "stdout",
     "output_type": "stream",
     "text": [
      "<class 'pandas.core.frame.DataFrame'>\n",
      "RangeIndex: 300 entries, 0 to 299\n",
      "Data columns (total 5 columns):\n",
      " #   Column  Non-Null Count  Dtype  \n",
      "---  ------  --------------  -----  \n",
      " 0   0       300 non-null    float64\n",
      " 1   1       300 non-null    float64\n",
      " 2   2       300 non-null    float64\n",
      " 3   3       300 non-null    float64\n",
      " 4   4       300 non-null    float64\n",
      "dtypes: float64(5)\n",
      "memory usage: 11.8 KB\n",
      "None\n"
     ]
    },
    {
     "data": {
      "text/html": [
       "<div>\n",
       "<style scoped>\n",
       "    .dataframe tbody tr th:only-of-type {\n",
       "        vertical-align: middle;\n",
       "    }\n",
       "\n",
       "    .dataframe tbody tr th {\n",
       "        vertical-align: top;\n",
       "    }\n",
       "\n",
       "    .dataframe thead th {\n",
       "        text-align: right;\n",
       "    }\n",
       "</style>\n",
       "<table border=\"1\" class=\"dataframe\">\n",
       "  <thead>\n",
       "    <tr style=\"text-align: right;\">\n",
       "      <th></th>\n",
       "      <th>0</th>\n",
       "      <th>1</th>\n",
       "      <th>2</th>\n",
       "      <th>3</th>\n",
       "      <th>4</th>\n",
       "    </tr>\n",
       "  </thead>\n",
       "  <tbody>\n",
       "    <tr>\n",
       "      <th>count</th>\n",
       "      <td>300.000000</td>\n",
       "      <td>300.000000</td>\n",
       "      <td>300.000000</td>\n",
       "      <td>300.000000</td>\n",
       "      <td>300.000000</td>\n",
       "    </tr>\n",
       "    <tr>\n",
       "      <th>mean</th>\n",
       "      <td>2630.877933</td>\n",
       "      <td>308630.410000</td>\n",
       "      <td>127187.050000</td>\n",
       "      <td>46.220000</td>\n",
       "      <td>0.476667</td>\n",
       "    </tr>\n",
       "    <tr>\n",
       "      <th>std</th>\n",
       "      <td>1416.096576</td>\n",
       "      <td>460586.067687</td>\n",
       "      <td>314218.134392</td>\n",
       "      <td>27.488488</td>\n",
       "      <td>0.500290</td>\n",
       "    </tr>\n",
       "    <tr>\n",
       "      <th>min</th>\n",
       "      <td>42.350000</td>\n",
       "      <td>1.000000</td>\n",
       "      <td>1.000000</td>\n",
       "      <td>1.000000</td>\n",
       "      <td>0.000000</td>\n",
       "    </tr>\n",
       "    <tr>\n",
       "      <th>25%</th>\n",
       "      <td>1408.067500</td>\n",
       "      <td>1.000000</td>\n",
       "      <td>10.000000</td>\n",
       "      <td>20.000000</td>\n",
       "      <td>0.000000</td>\n",
       "    </tr>\n",
       "    <tr>\n",
       "      <th>50%</th>\n",
       "      <td>2672.180000</td>\n",
       "      <td>1000.000000</td>\n",
       "      <td>1000.000000</td>\n",
       "      <td>50.000000</td>\n",
       "      <td>0.000000</td>\n",
       "    </tr>\n",
       "    <tr>\n",
       "      <th>75%</th>\n",
       "      <td>3895.692500</td>\n",
       "      <td>1000000.000000</td>\n",
       "      <td>10000.000000</td>\n",
       "      <td>70.000000</td>\n",
       "      <td>1.000000</td>\n",
       "    </tr>\n",
       "    <tr>\n",
       "      <th>max</th>\n",
       "      <td>4995.610000</td>\n",
       "      <td>1000000.000000</td>\n",
       "      <td>1000000.000000</td>\n",
       "      <td>90.000000</td>\n",
       "      <td>1.000000</td>\n",
       "    </tr>\n",
       "  </tbody>\n",
       "</table>\n",
       "</div>"
      ],
      "text/plain": [
       "                 0               1               2           3           4\n",
       "count   300.000000      300.000000      300.000000  300.000000  300.000000\n",
       "mean   2630.877933   308630.410000   127187.050000   46.220000    0.476667\n",
       "std    1416.096576   460586.067687   314218.134392   27.488488    0.500290\n",
       "min      42.350000        1.000000        1.000000    1.000000    0.000000\n",
       "25%    1408.067500        1.000000       10.000000   20.000000    0.000000\n",
       "50%    2672.180000     1000.000000     1000.000000   50.000000    0.000000\n",
       "75%    3895.692500  1000000.000000    10000.000000   70.000000    1.000000\n",
       "max    4995.610000  1000000.000000  1000000.000000   90.000000    1.000000"
      ]
     },
     "execution_count": 56,
     "metadata": {},
     "output_type": "execute_result"
    }
   ],
   "source": [
    "print(train_data.info())\n",
    "train_data.describe()"
   ]
  },
  {
   "cell_type": "code",
   "execution_count": 57,
   "metadata": {},
   "outputs": [
    {
     "name": "stdout",
     "output_type": "stream",
     "text": [
      "<class 'pandas.core.frame.DataFrame'>\n",
      "RangeIndex: 120 entries, 0 to 119\n",
      "Data columns (total 5 columns):\n",
      " #   Column  Non-Null Count  Dtype  \n",
      "---  ------  --------------  -----  \n",
      " 0   0       120 non-null    float64\n",
      " 1   1       120 non-null    float64\n",
      " 2   2       120 non-null    float64\n",
      " 3   3       120 non-null    float64\n",
      " 4   4       120 non-null    float64\n",
      "dtypes: float64(5)\n",
      "memory usage: 4.8 KB\n",
      "None\n"
     ]
    },
    {
     "data": {
      "text/html": [
       "<div>\n",
       "<style scoped>\n",
       "    .dataframe tbody tr th:only-of-type {\n",
       "        vertical-align: middle;\n",
       "    }\n",
       "\n",
       "    .dataframe tbody tr th {\n",
       "        vertical-align: top;\n",
       "    }\n",
       "\n",
       "    .dataframe thead th {\n",
       "        text-align: right;\n",
       "    }\n",
       "</style>\n",
       "<table border=\"1\" class=\"dataframe\">\n",
       "  <thead>\n",
       "    <tr style=\"text-align: right;\">\n",
       "      <th></th>\n",
       "      <th>0</th>\n",
       "      <th>1</th>\n",
       "      <th>2</th>\n",
       "      <th>3</th>\n",
       "      <th>4</th>\n",
       "    </tr>\n",
       "  </thead>\n",
       "  <tbody>\n",
       "    <tr>\n",
       "      <th>count</th>\n",
       "      <td>120.000000</td>\n",
       "      <td>120.000000</td>\n",
       "      <td>120.00000</td>\n",
       "      <td>120.000000</td>\n",
       "      <td>120.000000</td>\n",
       "    </tr>\n",
       "    <tr>\n",
       "      <th>mean</th>\n",
       "      <td>2670.297000</td>\n",
       "      <td>301690.150000</td>\n",
       "      <td>185332.30000</td>\n",
       "      <td>47.700000</td>\n",
       "      <td>0.516667</td>\n",
       "    </tr>\n",
       "    <tr>\n",
       "      <th>std</th>\n",
       "      <td>1433.466373</td>\n",
       "      <td>459080.909348</td>\n",
       "      <td>377847.18346</td>\n",
       "      <td>27.204362</td>\n",
       "      <td>0.501817</td>\n",
       "    </tr>\n",
       "    <tr>\n",
       "      <th>min</th>\n",
       "      <td>31.710000</td>\n",
       "      <td>1.000000</td>\n",
       "      <td>1.00000</td>\n",
       "      <td>1.000000</td>\n",
       "      <td>0.000000</td>\n",
       "    </tr>\n",
       "    <tr>\n",
       "      <th>25%</th>\n",
       "      <td>1630.512500</td>\n",
       "      <td>1.000000</td>\n",
       "      <td>10.00000</td>\n",
       "      <td>25.000000</td>\n",
       "      <td>0.000000</td>\n",
       "    </tr>\n",
       "    <tr>\n",
       "      <th>50%</th>\n",
       "      <td>2610.575000</td>\n",
       "      <td>1000.000000</td>\n",
       "      <td>1000.00000</td>\n",
       "      <td>50.000000</td>\n",
       "      <td>1.000000</td>\n",
       "    </tr>\n",
       "    <tr>\n",
       "      <th>75%</th>\n",
       "      <td>3924.557500</td>\n",
       "      <td>1000000.000000</td>\n",
       "      <td>100000.00000</td>\n",
       "      <td>70.000000</td>\n",
       "      <td>1.000000</td>\n",
       "    </tr>\n",
       "    <tr>\n",
       "      <th>max</th>\n",
       "      <td>4913.340000</td>\n",
       "      <td>1000000.000000</td>\n",
       "      <td>1000000.00000</td>\n",
       "      <td>90.000000</td>\n",
       "      <td>1.000000</td>\n",
       "    </tr>\n",
       "  </tbody>\n",
       "</table>\n",
       "</div>"
      ],
      "text/plain": [
       "                 0               1              2           3           4\n",
       "count   120.000000      120.000000      120.00000  120.000000  120.000000\n",
       "mean   2670.297000   301690.150000   185332.30000   47.700000    0.516667\n",
       "std    1433.466373   459080.909348   377847.18346   27.204362    0.501817\n",
       "min      31.710000        1.000000        1.00000    1.000000    0.000000\n",
       "25%    1630.512500        1.000000       10.00000   25.000000    0.000000\n",
       "50%    2610.575000     1000.000000     1000.00000   50.000000    1.000000\n",
       "75%    3924.557500  1000000.000000   100000.00000   70.000000    1.000000\n",
       "max    4913.340000  1000000.000000  1000000.00000   90.000000    1.000000"
      ]
     },
     "execution_count": 57,
     "metadata": {},
     "output_type": "execute_result"
    }
   ],
   "source": [
    "print(test_data.info())\n",
    "test_data.describe()"
   ]
  },
  {
   "cell_type": "markdown",
   "metadata": {},
   "source": [
    "We can see that the corresponding columns in both train and test data lie in the same ranges. \n",
    "\n",
    "Furthermore, by looking at the data distribution of the columns, we can infer that the `column 0` is continuous, `column 1` and `column 2` contain powers of $10$, `column 3` probably contains multiples of $5$, and `column 4` contains binary values (as described in the task).\n",
    "\n",
    "Now we will verify these points.\n",
    "\n",
    "Starting with checking which columns are discrete and which are continuous."
   ]
  },
  {
   "cell_type": "code",
   "execution_count": 50,
   "metadata": {},
   "outputs": [
    {
     "name": "stdout",
     "output_type": "stream",
     "text": [
      "Total rows in train: 300.\n",
      "Unique values in each column:\n",
      "0    300\n",
      "1      6\n",
      "2      7\n",
      "3     19\n",
      "4      2\n",
      "dtype: int64\n",
      "\n",
      "Total rows in test: 120.\n",
      "Unique values in each column:\n",
      "0    120\n",
      "1      6\n",
      "2      7\n",
      "3     19\n",
      "4      2\n",
      "dtype: int64\n"
     ]
    }
   ],
   "source": [
    "print(f\"Total rows in train: {len(train_data)}.\")\n",
    "print(f\"Unique values in each column:\")\n",
    "print(train_data.nunique())\n",
    "print()\n",
    "print(f\"Total rows in test: {len(test_data)}.\")\n",
    "print(f\"Unique values in each column:\")\n",
    "print(test_data.nunique())"
   ]
  },
  {
   "cell_type": "markdown",
   "metadata": {},
   "source": [
    "We can see that only `column 0` has all unique values, and thus it is continuous, while all others are discrete.\n",
    "\n"
   ]
  },
  {
   "cell_type": "markdown",
   "metadata": {},
   "source": [
    "Let's also see which columns are all integers."
   ]
  },
  {
   "cell_type": "code",
   "execution_count": 62,
   "metadata": {},
   "outputs": [
    {
     "name": "stdout",
     "output_type": "stream",
     "text": [
      "All Integers?\n",
      "Column 0: False\n",
      "Column 1: True\n",
      "Column 2: True\n",
      "Column 3: True\n",
      "Column 4: True\n"
     ]
    }
   ],
   "source": [
    "print(\"All Integers?\")\n",
    "for i in range(5):\n",
    "    print(f\"Column {i}: {np.array_equal(train_data[str(i)], train_data[str(i)].astype(int))}\")\n"
   ]
  },
  {
   "cell_type": "markdown",
   "metadata": {},
   "source": [
    "We can see that all columns, except `column 0` are integers. "
   ]
  },
  {
   "cell_type": "markdown",
   "metadata": {},
   "source": [
    "By looking at the data distribution of `column 1` and `column 2`, it seems that their values can be represented by $10^i$, where $i \\in \\{0, 1, 2, 3, 4, 5, 6\\}$. Let's verify this as well."
   ]
  },
  {
   "cell_type": "code",
   "execution_count": 64,
   "metadata": {},
   "outputs": [
    {
     "name": "stdout",
     "output_type": "stream",
     "text": [
      "Training Data\n",
      "Column 1 Min: 0.0\n",
      "Column 1 Max: 6.0\n",
      "Column 2 Min: 0.0\n",
      "Column 2 Max: 6.0\n",
      "\n",
      "Testing Data\n",
      "Column 1 Min: 0.0\n",
      "Column 1 Max: 6.0\n",
      "Column 2 Min: 0.0\n",
      "Column 2 Max: 6.0\n"
     ]
    }
   ],
   "source": [
    "def check_col_1_2(data):\n",
    "    for i in (\"1\", \"2\"):\n",
    "        log10 = np.log10(data[i])\n",
    "        print(f\"Column {i} Min: {log10.min()}\")\n",
    "        print(f\"Column {i} Max: {log10.max()}\")\n",
    "\n",
    "print(\"Training Data\")\n",
    "check_col_1_2(train_data)\n",
    "\n",
    "print()\n",
    "print(\"Testing Data\")\n",
    "check_col_1_2(test_data)"
   ]
  },
  {
   "cell_type": "markdown",
   "metadata": {},
   "source": [
    "Now, let's take a look at `column 3` and verify if it only contains $1$ and multiples of $5$."
   ]
  },
  {
   "cell_type": "code",
   "execution_count": 79,
   "metadata": {},
   "outputs": [
    {
     "name": "stdout",
     "output_type": "stream",
     "text": [
      "Train: [1.0, 5.0, 10.0, 15.0, 20.0, 25.0, 30.0, 35.0, 40.0, 45.0, 50.0, 55.0, 60.0, 65.0, 70.0, 75.0, 80.0, 85.0, 90.0]\n",
      "Test:  [1.0, 5.0, 10.0, 15.0, 20.0, 25.0, 30.0, 35.0, 40.0, 45.0, 50.0, 55.0, 60.0, 65.0, 70.0, 75.0, 80.0, 85.0, 90.0]\n"
     ]
    }
   ],
   "source": [
    "print(f\"Train: {sorted(train_data['3'].unique())}\")\n",
    "print(f\"Test:  {sorted(train_data['3'].unique())}\")"
   ]
  },
  {
   "cell_type": "markdown",
   "metadata": {},
   "source": [
    "So, based on our analysis:\n",
    "- `column 0` is continuous.\n",
    "- `column 1` and `column 2` contain powers of $10$, ranging from $0$ to $6$.\n",
    "- `column 3` contains $1$ and multiples of $5$.\n",
    "- `column 4` is the binary target label.\n",
    "- All columns, except `column 0`, can be represented by `int64` without any loss of information."
   ]
  },
  {
   "cell_type": "markdown",
   "metadata": {},
   "source": [
    "### Data Transformation\n",
    "Based on the results of our analysis, we can transform our data so it is easier to work with.\n",
    "- For `column 1` and `column 2`, we take `log10`.\n",
    "- For `column 3`, we divide by $5$.\n",
    "- We also convert data types to better represent the data.\n"
   ]
  },
  {
   "cell_type": "code",
   "execution_count": 72,
   "metadata": {},
   "outputs": [],
   "source": [
    "def transform_data(data):\n",
    "    data_new = pd.DataFrame.from_dict(\n",
    "        {\n",
    "            0: data['0'],\n",
    "            1: np.log10(data['1']),\n",
    "            2: np.log10(data['2']),\n",
    "            3: data['3'] // 5,\n",
    "            4: data['4'],\n",
    "        }\n",
    "    )\n",
    "\n",
    "    return data_new.convert_dtypes()"
   ]
  },
  {
   "cell_type": "code",
   "execution_count": 73,
   "metadata": {},
   "outputs": [
    {
     "name": "stdout",
     "output_type": "stream",
     "text": [
      "<class 'pandas.core.frame.DataFrame'>\n",
      "RangeIndex: 300 entries, 0 to 299\n",
      "Data columns (total 5 columns):\n",
      " #   Column  Non-Null Count  Dtype  \n",
      "---  ------  --------------  -----  \n",
      " 0   0       300 non-null    Float64\n",
      " 1   1       300 non-null    Int64  \n",
      " 2   2       300 non-null    Int64  \n",
      " 3   3       300 non-null    Int64  \n",
      " 4   4       300 non-null    Int64  \n",
      "dtypes: Float64(1), Int64(4)\n",
      "memory usage: 13.3 KB\n",
      "None\n"
     ]
    },
    {
     "data": {
      "text/html": [
       "<div>\n",
       "<style scoped>\n",
       "    .dataframe tbody tr th:only-of-type {\n",
       "        vertical-align: middle;\n",
       "    }\n",
       "\n",
       "    .dataframe tbody tr th {\n",
       "        vertical-align: top;\n",
       "    }\n",
       "\n",
       "    .dataframe thead th {\n",
       "        text-align: right;\n",
       "    }\n",
       "</style>\n",
       "<table border=\"1\" class=\"dataframe\">\n",
       "  <thead>\n",
       "    <tr style=\"text-align: right;\">\n",
       "      <th></th>\n",
       "      <th>0</th>\n",
       "      <th>1</th>\n",
       "      <th>2</th>\n",
       "      <th>3</th>\n",
       "      <th>4</th>\n",
       "    </tr>\n",
       "  </thead>\n",
       "  <tbody>\n",
       "    <tr>\n",
       "      <th>count</th>\n",
       "      <td>300.000000</td>\n",
       "      <td>300.000000</td>\n",
       "      <td>300.000000</td>\n",
       "      <td>300.000000</td>\n",
       "      <td>300.000000</td>\n",
       "    </tr>\n",
       "    <tr>\n",
       "      <th>mean</th>\n",
       "      <td>2630.877933</td>\n",
       "      <td>3.116667</td>\n",
       "      <td>2.713333</td>\n",
       "      <td>9.233333</td>\n",
       "      <td>0.476667</td>\n",
       "    </tr>\n",
       "    <tr>\n",
       "      <th>std</th>\n",
       "      <td>1416.096576</td>\n",
       "      <td>2.385096</td>\n",
       "      <td>1.999454</td>\n",
       "      <td>5.515459</td>\n",
       "      <td>0.500290</td>\n",
       "    </tr>\n",
       "    <tr>\n",
       "      <th>min</th>\n",
       "      <td>42.350000</td>\n",
       "      <td>0.000000</td>\n",
       "      <td>0.000000</td>\n",
       "      <td>0.000000</td>\n",
       "      <td>0.000000</td>\n",
       "    </tr>\n",
       "    <tr>\n",
       "      <th>25%</th>\n",
       "      <td>1408.067500</td>\n",
       "      <td>0.000000</td>\n",
       "      <td>1.000000</td>\n",
       "      <td>4.000000</td>\n",
       "      <td>0.000000</td>\n",
       "    </tr>\n",
       "    <tr>\n",
       "      <th>50%</th>\n",
       "      <td>2672.180000</td>\n",
       "      <td>3.000000</td>\n",
       "      <td>3.000000</td>\n",
       "      <td>10.000000</td>\n",
       "      <td>0.000000</td>\n",
       "    </tr>\n",
       "    <tr>\n",
       "      <th>75%</th>\n",
       "      <td>3895.692500</td>\n",
       "      <td>6.000000</td>\n",
       "      <td>4.000000</td>\n",
       "      <td>14.000000</td>\n",
       "      <td>1.000000</td>\n",
       "    </tr>\n",
       "    <tr>\n",
       "      <th>max</th>\n",
       "      <td>4995.610000</td>\n",
       "      <td>6.000000</td>\n",
       "      <td>6.000000</td>\n",
       "      <td>18.000000</td>\n",
       "      <td>1.000000</td>\n",
       "    </tr>\n",
       "  </tbody>\n",
       "</table>\n",
       "</div>"
      ],
      "text/plain": [
       "                 0           1           2           3           4\n",
       "count   300.000000  300.000000  300.000000  300.000000  300.000000\n",
       "mean   2630.877933    3.116667    2.713333    9.233333    0.476667\n",
       "std    1416.096576    2.385096    1.999454    5.515459    0.500290\n",
       "min      42.350000    0.000000    0.000000    0.000000    0.000000\n",
       "25%    1408.067500    0.000000    1.000000    4.000000    0.000000\n",
       "50%    2672.180000    3.000000    3.000000   10.000000    0.000000\n",
       "75%    3895.692500    6.000000    4.000000   14.000000    1.000000\n",
       "max    4995.610000    6.000000    6.000000   18.000000    1.000000"
      ]
     },
     "execution_count": 73,
     "metadata": {},
     "output_type": "execute_result"
    }
   ],
   "source": [
    "train_transformed = transform_data(train_data)\n",
    "print(train_transformed.info())\n",
    "train_transformed.describe()"
   ]
  },
  {
   "cell_type": "markdown",
   "metadata": {},
   "source": [
    "### Visualizations\n",
    "Now, let's take a quick look at some visualizations to get a better sense of the data and its distribution."
   ]
  },
  {
   "cell_type": "code",
   "execution_count": 108,
   "metadata": {},
   "outputs": [
    {
     "data": {
      "image/png": "[encoded data removed]",
      "text/plain": [
       "<Figure size 720x288 with 1 Axes>"
      ]
     },
     "metadata": {},
     "output_type": "display_data"
    }
   ],
   "source": [
    "# column 0\n",
    "train_transformed[0].hist(\n",
    "    figsize=(10, 4),\n",
    ");\n"
   ]
  },
  {
   "cell_type": "code",
   "execution_count": 109,
   "metadata": {},
   "outputs": [
    {
     "data": {
      "image/png": "[encoded data removed]",
      "text/plain": [
       "<Figure size 720x288 with 2 Axes>"
      ]
     },
     "metadata": {},
     "output_type": "display_data"
    }
   ],
   "source": [
    "# columns 1, 2\n",
    "train_transformed[[1, 2]].hist(\n",
    "    figsize=(10, 4),\n",
    "    bins=[x - 0.5 for x in range(8)]\n",
    ");"
   ]
  },
  {
   "cell_type": "code",
   "execution_count": 111,
   "metadata": {},
   "outputs": [
    {
     "data": {
      "image/png": "[encoded data removed]",
      "text/plain": [
       "<Figure size 720x288 with 1 Axes>"
      ]
     },
     "metadata": {},
     "output_type": "display_data"
    }
   ],
   "source": [
    "# print(f\"column 3:\")\n",
    "train_transformed[3].hist(\n",
    "    figsize=(10, 4),\n",
    "    bins=[x - 0.5 for x in range(20)],\n",
    ");"
   ]
  },
  {
   "cell_type": "code",
   "execution_count": null,
   "metadata": {},
   "outputs": [],
   "source": []
  },
  {
   "cell_type": "code",
   "execution_count": null,
   "metadata": {},
   "outputs": [],
   "source": []
  },
  {
   "cell_type": "code",
   "execution_count": null,
   "metadata": {},
   "outputs": [],
   "source": []
  },
  {
   "cell_type": "code",
   "execution_count": null,
   "metadata": {},
   "outputs": [],
   "source": []
  },
  {
   "cell_type": "code",
   "execution_count": null,
   "metadata": {},
   "outputs": [],
   "source": []
  },
  {
   "cell_type": "markdown",
   "metadata": {},
   "source": [
    "### Feature Label split"
   ]
  },
  {
   "cell_type": "code",
   "execution_count": 30,
   "metadata": {},
   "outputs": [
    {
     "name": "stdout",
     "output_type": "stream",
     "text": [
      "Shape of train features: (300, 4)\n",
      "Shape of train labels: (300,)\n",
      "Shape of test features: (120, 4)\n",
      "Shape of test labels: (120,)\n"
     ]
    }
   ],
   "source": [
    "X_train = train_data.iloc[:, :-1].to_numpy()\n",
    "y_train = train_data.iloc[:, -1].to_numpy()\n",
    "\n",
    "print(f\"Shape of train features: {X_train.shape}\")\n",
    "print(f\"Shape of train labels: {y_train.shape}\")\n",
    "\n",
    "X_test = test_data.iloc[:, :-1].to_numpy()\n",
    "y_test = test_data.iloc[:, -1].to_numpy()\n",
    "\n",
    "print(f\"Shape of test features: {X_test.shape}\")\n",
    "print(f\"Shape of test labels: {y_test.shape}\")"
   ]
  },
  {
   "cell_type": "markdown",
   "metadata": {},
   "source": [
    "### Normalize Data"
   ]
  },
  {
   "cell_type": "code",
   "execution_count": null,
   "metadata": {},
   "outputs": [],
   "source": [
    "X_train = np.sqrt(np.sum(X_train))"
   ]
  }
 ],
 "metadata": {
  "interpreter": {
   "hash": "9e3aae0ec6fbde15b3ae32d4ec0b394f49c7d58e2574e2cd6bf1d54be2c7d4db"
  },
  "kernelspec": {
   "display_name": "Python 3.9.7 ('qhack')",
   "language": "python",
   "name": "python3"
  },
  "language_info": {
   "codemirror_mode": {
    "name": "ipython",
    "version": 3
   },
   "file_extension": ".py",
   "mimetype": "text/x-python",
   "name": "python",
   "nbconvert_exporter": "python",
   "pygments_lexer": "ipython3",
   "version": "3.9.7"
  },
  "orig_nbformat": 4
 },
 "nbformat": 4,
 "nbformat_minor": 2
}
